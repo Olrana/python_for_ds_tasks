{
 "cells": [
  {
   "cell_type": "markdown",
   "id": "aed503f1",
   "metadata": {
    "ExecuteTime": {
     "end_time": "2023-07-27T20:14:32.871852Z",
     "start_time": "2023-07-27T20:14:31.036121Z"
    }
   },
   "source": [
    "У завданнях 1-4. Вам наданий простий код на Python, який не відповідає вказівкам PEP8. Ваше завдання — відредагувати код так, аби він відповідав PEP8. Напишіть після редагуванню коду, дотримання яких правил з pep8 ви досягли в відредагованій версі, наприклад\n",
    "```\n",
    "- додала пробіли навколо бінарного оператора\n",
    "- додала два порожні рядки між визначеннями функцій\n",
    "і тд\n",
    "```\n",
    "Також можна зазанчити використані правила коментарями по коду, а не окремим повідомленням.\n",
    "\n",
    "Відредагований код має виконувати весь той самий функціонал, але бути написаний відповідно до вимог до гарного коду на Python! Не забудьте запустити відредагований код, він має бути робочим."
   ]
  },
  {
   "cell_type": "markdown",
   "id": "e7fea147",
   "metadata": {},
   "source": [
    "Завдання 1."
   ]
  },
  {
   "cell_type": "code",
   "execution_count": 1,
   "id": "f63d84d7",
   "metadata": {
    "ExecuteTime": {
     "end_time": "2023-07-29T17:02:37.075783Z",
     "start_time": "2023-07-29T17:02:37.035259Z"
    }
   },
   "outputs": [
    {
     "name": "stdout",
     "output_type": "stream",
     "text": [
      "Hello, John\n"
     ]
    },
    {
     "data": {
      "text/plain": [
       "None"
      ]
     },
     "metadata": {},
     "output_type": "display_data"
    },
    {
     "data": {
      "text/plain": [
       "8"
      ]
     },
     "metadata": {},
     "output_type": "display_data"
    }
   ],
   "source": [
    "def greet(name):print(f\"Hello, {name}\")\n",
    "def add(n1,n2):return n1+n2\n",
    "\n",
    "x = 5;y = 3\n",
    "display(greet(\"John\"),add(x,y))\n"
   ]
  },
  {
   "cell_type": "code",
   "execution_count": 2,
   "id": "41b7e672",
   "metadata": {},
   "outputs": [
    {
     "name": "stdout",
     "output_type": "stream",
     "text": [
      "Hello, John\n"
     ]
    },
    {
     "data": {
      "text/plain": [
       "None"
      ]
     },
     "metadata": {},
     "output_type": "display_data"
    },
    {
     "data": {
      "text/plain": [
       "8"
      ]
     },
     "metadata": {},
     "output_type": "display_data"
    }
   ],
   "source": [
    "\n",
    "\n",
    "def greet(name):\n",
    "    print(f\"Hello, {name}\")\n",
    "# Перенесла рядок print\n",
    "\n",
    "\n",
    "def add(n1, n2):\n",
    "    return n1 + n2\n",
    "# Перенесла рядок return\n",
    "# Додала пробіли, щоб виділити бінарну операцію\n",
    "# Додала пробіл після коми\n",
    "# Розділила функції 2 пустимb рядками з обох сторін\n",
    "\n",
    "x = 5\n",
    "y = 3\n",
    "\n",
    "# Перенесла x, y в різні рядки\n",
    "# Можна було ще записати так: x, y = 5, 3\n",
    "\n",
    "display(greet(\"John\"), add(x, y))\n",
    "# Додала пробіли після ком"
   ]
  },
  {
   "cell_type": "markdown",
   "id": "cea88baf",
   "metadata": {},
   "source": [
    "Завдання 2."
   ]
  },
  {
   "cell_type": "code",
   "execution_count": 3,
   "id": "dfb6d2b5",
   "metadata": {
    "ExecuteTime": {
     "end_time": "2023-07-29T17:05:49.706098Z",
     "start_time": "2023-07-29T17:05:49.688255Z"
    }
   },
   "outputs": [
    {
     "name": "stdout",
     "output_type": "stream",
     "text": [
      "Area: 78.53981633974483 Circumference: 31.41592653589793\n"
     ]
    }
   ],
   "source": [
    "from math import *\n",
    "def calcArea(r):return pi*r**2\n",
    "def calcCircumference(r):return 2*pi*r\n",
    "\n",
    "radius=5\n",
    "print(\"Area:\",calcArea(radius),\"Circumference:\",calcCircumference(radius))"
   ]
  },
  {
   "cell_type": "code",
   "execution_count": 5,
   "id": "df263672",
   "metadata": {},
   "outputs": [
    {
     "name": "stdout",
     "output_type": "stream",
     "text": [
      "Area: 78.53981633974483 Circum ference: 31.41592653589793\n"
     ]
    }
   ],
   "source": [
    "from math import *\n",
    "\n",
    "\n",
    "def calc_area(r):\n",
    "    return pi * r ** 2\n",
    "\n",
    "\n",
    "def calc_circum_ference(r):\n",
    "    return 2 * pi * r\n",
    "\n",
    "# Додала по 2 рядки відступу з обох боків\n",
    "# Перенесла рядки return\n",
    "# Змінила назви функцій згідно до правил\n",
    "# Розділила пробілами бінарні операції\n",
    "\n",
    "radius = 5\n",
    "# Відділила дорівнює пробілами з обох боків\n",
    "\n",
    "print(\"Area:\", calc_area(radius), \n",
    "      \"Circum ference:\", calc_circum_ference(radius))\n",
    "# Перенесла частково, адже довжина більше ніж 79 символів\n"
   ]
  },
  {
   "cell_type": "markdown",
   "id": "1fd691b7",
   "metadata": {},
   "source": [
    "Завдання 3."
   ]
  },
  {
   "cell_type": "code",
   "execution_count": 6,
   "id": "1d5acb2d",
   "metadata": {
    "ExecuteTime": {
     "end_time": "2023-07-29T17:06:18.612622Z",
     "start_time": "2023-07-29T17:06:18.598477Z"
    }
   },
   "outputs": [],
   "source": [
    "class animal: pass\n",
    "class dog(animal): \n",
    "    def __init__(self,name):\n",
    "        self.name=name\n",
    "        self.type='Dog'"
   ]
  },
  {
   "cell_type": "code",
   "execution_count": 7,
   "id": "0d4b2b8a",
   "metadata": {},
   "outputs": [],
   "source": [
    "class Animal: \n",
    "    pass\n",
    "# Змістила pass \n",
    "# Змінила назву класу\n",
    "\n",
    "class Dog(animal): \n",
    "    def __init__(self, name):\n",
    "        self.name = name\n",
    "        self.type = 'Dog'\n",
    "        \n",
    "# Змінила назву класу\n",
    "# Відділила кому\n",
    "# Відділила пробілами знаки дорівнює\n",
    "        "
   ]
  },
  {
   "cell_type": "markdown",
   "id": "7d1d4f5d",
   "metadata": {},
   "source": [
    "Завдання 4."
   ]
  },
  {
   "cell_type": "code",
   "execution_count": 8,
   "id": "a91c1cc4",
   "metadata": {
    "ExecuteTime": {
     "end_time": "2023-07-29T17:06:47.180263Z",
     "start_time": "2023-07-29T17:06:47.173617Z"
    }
   },
   "outputs": [
    {
     "name": "stdout",
     "output_type": "stream",
     "text": [
      "1\n",
      "2\n",
      "3\n",
      "4\n",
      "5\n"
     ]
    }
   ],
   "source": [
    "list=[1,2,3,4,5]\n",
    "for i in range(len(list)):print(list[i])"
   ]
  },
  {
   "cell_type": "code",
   "execution_count": 9,
   "id": "c0f9541a",
   "metadata": {},
   "outputs": [
    {
     "name": "stdout",
     "output_type": "stream",
     "text": [
      "1\n",
      "2\n",
      "3\n",
      "4\n",
      "5\n"
     ]
    }
   ],
   "source": [
    "list = [1, 2, 3, 4, 5]\n",
    "# Відділено дорівнює та всі елементи ліста пробілами\n",
    "\n",
    "for num in list:\n",
    "    print(num)\n",
    "    \n",
    "#     Можна ще зробити так\n",
    "# for num in range(len(list)):\n",
    "#     print(list[num])\n",
    "# Перенесла print \n",
    "# Замінила і на num, мені здалось це більше інформативно\n",
    "# Скоротила запис\n"
   ]
  },
  {
   "cell_type": "markdown",
   "id": "8b0487e6",
   "metadata": {},
   "source": [
    "5.У вас є DataFrame df, що представляє результати тестів студентів з математики, англійської мови та історії. Поточний код обчислює середній бал для кожного студента шляхом ітерації за рядками DataFrame за допомогою iterrows().\n",
    "\n",
    "Ваше завдання полягає в тому, щоб змінити код так, аби уникнути використання iterrows() і замість цього застосувати більш ефективне та читабельне рішення відповідно до правил, озвучених у лекції. Рефакторинг треба зробити лише частині, де рахуються середні, імпорт і визначення датафрейму лишаємо без змін."
   ]
  },
  {
   "cell_type": "code",
   "execution_count": 17,
   "id": "5b3cc648",
   "metadata": {
    "ExecuteTime": {
     "end_time": "2023-07-29T17:15:55.926882Z",
     "start_time": "2023-07-29T17:15:55.686415Z"
    }
   },
   "outputs": [],
   "source": [
    "import pandas as pd\n",
    "\n",
    "df = pd.DataFrame({\n",
    "    'student': ['Alice', 'Bob', 'Charlie', 'David'],\n",
    "    'math_score': [89, 94, 77, 85],\n",
    "    'english_score': [92, 88, 79, 85],\n",
    "    'history_score': [84, 92, 81, 89]\n",
    "})"
   ]
  },
  {
   "cell_type": "code",
   "execution_count": 13,
   "id": "f5858889",
   "metadata": {
    "ExecuteTime": {
     "end_time": "2023-07-29T17:15:55.926882Z",
     "start_time": "2023-07-29T17:15:55.686415Z"
    }
   },
   "outputs": [
    {
     "data": {
      "text/html": [
       "<div>\n",
       "<style scoped>\n",
       "    .dataframe tbody tr th:only-of-type {\n",
       "        vertical-align: middle;\n",
       "    }\n",
       "\n",
       "    .dataframe tbody tr th {\n",
       "        vertical-align: top;\n",
       "    }\n",
       "\n",
       "    .dataframe thead th {\n",
       "        text-align: right;\n",
       "    }\n",
       "</style>\n",
       "<table border=\"1\" class=\"dataframe\">\n",
       "  <thead>\n",
       "    <tr style=\"text-align: right;\">\n",
       "      <th></th>\n",
       "      <th>student</th>\n",
       "      <th>math_score</th>\n",
       "      <th>english_score</th>\n",
       "      <th>history_score</th>\n",
       "      <th>average_score</th>\n",
       "    </tr>\n",
       "  </thead>\n",
       "  <tbody>\n",
       "    <tr>\n",
       "      <th>0</th>\n",
       "      <td>Alice</td>\n",
       "      <td>89</td>\n",
       "      <td>92</td>\n",
       "      <td>84</td>\n",
       "      <td>88.333333</td>\n",
       "    </tr>\n",
       "    <tr>\n",
       "      <th>1</th>\n",
       "      <td>Bob</td>\n",
       "      <td>94</td>\n",
       "      <td>88</td>\n",
       "      <td>92</td>\n",
       "      <td>91.333333</td>\n",
       "    </tr>\n",
       "    <tr>\n",
       "      <th>2</th>\n",
       "      <td>Charlie</td>\n",
       "      <td>77</td>\n",
       "      <td>79</td>\n",
       "      <td>81</td>\n",
       "      <td>79.000000</td>\n",
       "    </tr>\n",
       "    <tr>\n",
       "      <th>3</th>\n",
       "      <td>David</td>\n",
       "      <td>85</td>\n",
       "      <td>85</td>\n",
       "      <td>89</td>\n",
       "      <td>86.333333</td>\n",
       "    </tr>\n",
       "  </tbody>\n",
       "</table>\n",
       "</div>"
      ],
      "text/plain": [
       "   student  math_score  english_score  history_score  average_score\n",
       "0    Alice          89             92             84      88.333333\n",
       "1      Bob          94             88             92      91.333333\n",
       "2  Charlie          77             79             81      79.000000\n",
       "3    David          85             85             89      86.333333"
      ]
     },
     "execution_count": 13,
     "metadata": {},
     "output_type": "execute_result"
    }
   ],
   "source": [
    "averages = []\n",
    "for _, row in df.iterrows():\n",
    "    averages.append((row['math_score'] + row['english_score'] + row['history_score']) / 3)\n",
    "\n",
    "df['average_score'] = averages\n",
    "df"
   ]
  },
  {
   "cell_type": "code",
   "execution_count": 21,
   "id": "74cea4fc",
   "metadata": {},
   "outputs": [
    {
     "data": {
      "text/html": [
       "<div>\n",
       "<style scoped>\n",
       "    .dataframe tbody tr th:only-of-type {\n",
       "        vertical-align: middle;\n",
       "    }\n",
       "\n",
       "    .dataframe tbody tr th {\n",
       "        vertical-align: top;\n",
       "    }\n",
       "\n",
       "    .dataframe thead th {\n",
       "        text-align: right;\n",
       "    }\n",
       "</style>\n",
       "<table border=\"1\" class=\"dataframe\">\n",
       "  <thead>\n",
       "    <tr style=\"text-align: right;\">\n",
       "      <th></th>\n",
       "      <th>student</th>\n",
       "      <th>math_score</th>\n",
       "      <th>english_score</th>\n",
       "      <th>history_score</th>\n",
       "      <th>average_score</th>\n",
       "    </tr>\n",
       "  </thead>\n",
       "  <tbody>\n",
       "    <tr>\n",
       "      <th>0</th>\n",
       "      <td>Alice</td>\n",
       "      <td>89</td>\n",
       "      <td>92</td>\n",
       "      <td>84</td>\n",
       "      <td>88.333333</td>\n",
       "    </tr>\n",
       "    <tr>\n",
       "      <th>1</th>\n",
       "      <td>Bob</td>\n",
       "      <td>94</td>\n",
       "      <td>88</td>\n",
       "      <td>92</td>\n",
       "      <td>91.333333</td>\n",
       "    </tr>\n",
       "    <tr>\n",
       "      <th>2</th>\n",
       "      <td>Charlie</td>\n",
       "      <td>77</td>\n",
       "      <td>79</td>\n",
       "      <td>81</td>\n",
       "      <td>79.000000</td>\n",
       "    </tr>\n",
       "    <tr>\n",
       "      <th>3</th>\n",
       "      <td>David</td>\n",
       "      <td>85</td>\n",
       "      <td>85</td>\n",
       "      <td>89</td>\n",
       "      <td>86.333333</td>\n",
       "    </tr>\n",
       "  </tbody>\n",
       "</table>\n",
       "</div>"
      ],
      "text/plain": [
       "   student  math_score  english_score  history_score  average_score\n",
       "0    Alice          89             92             84      88.333333\n",
       "1      Bob          94             88             92      91.333333\n",
       "2  Charlie          77             79             81      79.000000\n",
       "3    David          85             85             89      86.333333"
      ]
     },
     "execution_count": 21,
     "metadata": {},
     "output_type": "execute_result"
    }
   ],
   "source": [
    "df['average_score'] = df[['math_score', 'english_score', 'history_score']].mean(axis=1)\n",
    "df"
   ]
  },
  {
   "cell_type": "markdown",
   "id": "34fb1db9",
   "metadata": {},
   "source": [
    "6.У Вас є великий DataFrame df, що представляє транзакції продажу в магазині. Цей DataFrame містить понад 1 мільйон рядків і кілька стовпців, зокрема «product_name», «product_category», «product_price» і «transaction_date».\n",
    "\n",
    "І «product_name», і «product_category» є рядками, що представляють численні, але обмежені унікальні назви продуктів і категорії відповідно.\n",
    "\n",
    "Напишіть код для ефективного перетворення стовпців «product_name» і «product_category» на категорійний тип для ефективного використання пам’яті.\n",
    "Спробуйте вирішити це завдання, мінімізуючи використання пам'яті та зберігаючи читабельність коду. Крім того, виміряйте використання пам’яті до та після перетворення, щоб продемонструвати підвищення ефективності.\n",
    "\n",
    "Порівняйте кількість памʼяті, яку займає наданий набір даних і новий, створений Вами. В лекції був приклад. В скільки разів менше памʼяті займає новий датафрейм?"
   ]
  },
  {
   "cell_type": "code",
   "execution_count": 25,
   "id": "d4926909",
   "metadata": {
    "ExecuteTime": {
     "end_time": "2023-07-29T21:19:30.009527Z",
     "start_time": "2023-07-29T21:19:29.595210Z"
    }
   },
   "outputs": [
    {
     "data": {
      "text/plain": [
       "134.84814071655273"
      ]
     },
     "execution_count": 25,
     "metadata": {},
     "output_type": "execute_result"
    }
   ],
   "source": [
    "import pandas as pd\n",
    "import numpy as np\n",
    "\n",
    "np.random.seed(0)\n",
    "\n",
    "products = ['apple', 'banana', 'cherry', 'dates', 'elderberry']\n",
    "categories = ['fruit', 'fruit', 'fruit', 'fruit', 'fruit']\n",
    "\n",
    "N_ROWS = 10**6\n",
    "df = pd.DataFrame({\n",
    "    'product_name': np.random.choice(products, N_ROWS),\n",
    "    'product_category': np.random.choice(categories, N_ROWS),\n",
    "    'product_price': np.random.uniform(1, 10, N_ROWS),\n",
    "    'transaction_date': pd.date_range(start='1/1/2000', periods=N_ROWS, freq='h')\n",
    "})\n",
    "# df.memory_usage(index=False).sum()\n",
    "df.memory_usage(deep=True).sum() / (1024 ** 2)"
   ]
  },
  {
   "cell_type": "code",
   "execution_count": 26,
   "id": "233909b8",
   "metadata": {},
   "outputs": [
    {
     "data": {
      "text/plain": [
       "17.166892051696777"
      ]
     },
     "execution_count": 26,
     "metadata": {},
     "output_type": "execute_result"
    }
   ],
   "source": [
    "df['product_name'] = df['product_name'].astype('category')\n",
    "df['product_category'] = df['product_category'].astype('category')\n"
   ]
  },
  {
   "cell_type": "code",
   "execution_count": 29,
   "id": "c9c52495",
   "metadata": {},
   "outputs": [
    {
     "name": "stdout",
     "output_type": "stream",
     "text": [
      "Маємо зниження витрат памʼяті на 87.41% !\n"
     ]
    }
   ],
   "source": [
    "print(f\"Маємо зниження витрат памʼяті на {round((1-17/135)*100,2)}% !\")"
   ]
  },
  {
   "cell_type": "markdown",
   "id": "131cc08d",
   "metadata": {},
   "source": [
    "7.В цьому завданні кілька пунктів. Треба виконати усі послідовно.   \n",
    "    7.1. Завантажте дані у pandas dataframe з файла `ecommerce_data.csv`. Обовʼязково при завантаженні вкажіть параметр `encoding = 'ISO-8859-1'`, без нього буде помилка.  \n",
    "    7.2. Заповніть пропущені значення в колонці CustomerID на -1 та перетворіть тип цієї колонки на str, адже зараз вона типу float, а це не правильний тип даних для ідентифікатора клієнта.  \n",
    "    7.3. З допомогою бібліотеки sweetviz побудуйте html звіт, який порівнює дані для країни \"Germany\" і країни \"France\". У Вас можуть виникнути багато попереджень (Warning), їх рекомендую вимкнути наступним шматком коду   \n",
    "    \n",
    "   \n",
    "    import warnings\n",
    "\n",
    "    with warnings.catch_warnings(record=True):\n",
    "        # your code\n",
    "    \n",
    "    \n",
    "   7.4.Напишіть 5 відмінностей для двох зазначених країн на основі побудованого звіту, без виконання додаткового аналізу іншими інструментами. "
   ]
  },
  {
   "cell_type": "code",
   "execution_count": 34,
   "id": "461ddff5",
   "metadata": {},
   "outputs": [
    {
     "name": "stdout",
     "output_type": "stream",
     "text": [
      "Collecting sweetviz\n",
      "  Obtaining dependency information for sweetviz from https://files.pythonhosted.org/packages/89/50/8d3f7ca820267a38b42c64778db0f186d85cec6e3f0c5210eab9c16e783f/sweetviz-2.3.1-py3-none-any.whl.metadata\n",
      "  Downloading sweetviz-2.3.1-py3-none-any.whl.metadata (24 kB)\n",
      "Requirement already satisfied: pandas!=1.0.0,!=1.0.1,!=1.0.2,>=0.25.3 in c:\\users\\olran\\anaconda3\\lib\\site-packages (from sweetviz) (1.5.3)\n",
      "Requirement already satisfied: numpy>=1.16.0 in c:\\users\\olran\\anaconda3\\lib\\site-packages (from sweetviz) (1.24.3)\n",
      "Requirement already satisfied: matplotlib>=3.1.3 in c:\\users\\olran\\anaconda3\\lib\\site-packages (from sweetviz) (3.7.1)\n",
      "Requirement already satisfied: tqdm>=4.43.0 in c:\\users\\olran\\anaconda3\\lib\\site-packages (from sweetviz) (4.65.0)\n",
      "Requirement already satisfied: scipy>=1.3.2 in c:\\users\\olran\\anaconda3\\lib\\site-packages (from sweetviz) (1.10.1)\n",
      "Requirement already satisfied: jinja2>=2.11.1 in c:\\users\\olran\\anaconda3\\lib\\site-packages (from sweetviz) (3.1.2)\n",
      "Collecting importlib-resources>=1.2.0 (from sweetviz)\n",
      "  Obtaining dependency information for importlib-resources>=1.2.0 from https://files.pythonhosted.org/packages/93/e8/facde510585869b5ec694e8e0363ffe4eba067cb357a8398a55f6a1f8023/importlib_resources-6.1.1-py3-none-any.whl.metadata\n",
      "  Downloading importlib_resources-6.1.1-py3-none-any.whl.metadata (4.1 kB)\n",
      "Requirement already satisfied: MarkupSafe>=2.0 in c:\\users\\olran\\anaconda3\\lib\\site-packages (from jinja2>=2.11.1->sweetviz) (2.1.1)\n",
      "Requirement already satisfied: contourpy>=1.0.1 in c:\\users\\olran\\anaconda3\\lib\\site-packages (from matplotlib>=3.1.3->sweetviz) (1.0.5)\n",
      "Requirement already satisfied: cycler>=0.10 in c:\\users\\olran\\anaconda3\\lib\\site-packages (from matplotlib>=3.1.3->sweetviz) (0.11.0)\n",
      "Requirement already satisfied: fonttools>=4.22.0 in c:\\users\\olran\\anaconda3\\lib\\site-packages (from matplotlib>=3.1.3->sweetviz) (4.25.0)\n",
      "Requirement already satisfied: kiwisolver>=1.0.1 in c:\\users\\olran\\anaconda3\\lib\\site-packages (from matplotlib>=3.1.3->sweetviz) (1.4.4)\n",
      "Requirement already satisfied: packaging>=20.0 in c:\\users\\olran\\anaconda3\\lib\\site-packages (from matplotlib>=3.1.3->sweetviz) (23.0)\n",
      "Requirement already satisfied: pillow>=6.2.0 in c:\\users\\olran\\anaconda3\\lib\\site-packages (from matplotlib>=3.1.3->sweetviz) (9.4.0)\n",
      "Requirement already satisfied: pyparsing>=2.3.1 in c:\\users\\olran\\anaconda3\\lib\\site-packages (from matplotlib>=3.1.3->sweetviz) (3.0.9)\n",
      "Requirement already satisfied: python-dateutil>=2.7 in c:\\users\\olran\\anaconda3\\lib\\site-packages (from matplotlib>=3.1.3->sweetviz) (2.8.2)\n",
      "Requirement already satisfied: pytz>=2020.1 in c:\\users\\olran\\anaconda3\\lib\\site-packages (from pandas!=1.0.0,!=1.0.1,!=1.0.2,>=0.25.3->sweetviz) (2022.7)\n",
      "Requirement already satisfied: colorama in c:\\users\\olran\\anaconda3\\lib\\site-packages (from tqdm>=4.43.0->sweetviz) (0.4.6)\n",
      "Requirement already satisfied: six>=1.5 in c:\\users\\olran\\anaconda3\\lib\\site-packages (from python-dateutil>=2.7->matplotlib>=3.1.3->sweetviz) (1.16.0)\n",
      "Downloading sweetviz-2.3.1-py3-none-any.whl (15.1 MB)\n",
      "   ---------------------------------------- 0.0/15.1 MB ? eta -:--:--\n",
      "   ---------------------------------------- 0.0/15.1 MB 1.9 MB/s eta 0:00:08\n",
      "   ---------------------------------------- 0.1/15.1 MB 1.7 MB/s eta 0:00:09\n",
      "    --------------------------------------- 0.3/15.1 MB 2.0 MB/s eta 0:00:08\n",
      "   - -------------------------------------- 0.4/15.1 MB 2.2 MB/s eta 0:00:07\n",
      "   - -------------------------------------- 0.5/15.1 MB 2.2 MB/s eta 0:00:07\n",
      "   - -------------------------------------- 0.6/15.1 MB 2.3 MB/s eta 0:00:07\n",
      "   -- ------------------------------------- 0.8/15.1 MB 2.5 MB/s eta 0:00:06\n",
      "   -- ------------------------------------- 0.8/15.1 MB 2.5 MB/s eta 0:00:06\n",
      "   -- ------------------------------------- 0.9/15.1 MB 2.3 MB/s eta 0:00:07\n",
      "   -- ------------------------------------- 1.0/15.1 MB 2.4 MB/s eta 0:00:06\n",
      "   --- ------------------------------------ 1.2/15.1 MB 2.3 MB/s eta 0:00:06\n",
      "   --- ------------------------------------ 1.3/15.1 MB 2.4 MB/s eta 0:00:06\n",
      "   --- ------------------------------------ 1.4/15.1 MB 2.3 MB/s eta 0:00:07\n",
      "   --- ------------------------------------ 1.5/15.1 MB 2.3 MB/s eta 0:00:06\n",
      "   ---- ----------------------------------- 1.6/15.1 MB 2.3 MB/s eta 0:00:06\n",
      "   ---- ----------------------------------- 1.7/15.1 MB 2.3 MB/s eta 0:00:06\n",
      "   ---- ----------------------------------- 1.8/15.1 MB 2.3 MB/s eta 0:00:06\n",
      "   ----- ---------------------------------- 2.0/15.1 MB 2.4 MB/s eta 0:00:06\n",
      "   ----- ---------------------------------- 2.1/15.1 MB 2.4 MB/s eta 0:00:06\n",
      "   ------ --------------------------------- 2.3/15.1 MB 2.5 MB/s eta 0:00:06\n",
      "   ------ --------------------------------- 2.4/15.1 MB 2.5 MB/s eta 0:00:06\n",
      "   ------ --------------------------------- 2.6/15.1 MB 2.5 MB/s eta 0:00:05\n",
      "   ------- -------------------------------- 2.8/15.1 MB 2.6 MB/s eta 0:00:05\n",
      "   ------- -------------------------------- 2.9/15.1 MB 2.6 MB/s eta 0:00:05\n",
      "   -------- ------------------------------- 3.1/15.1 MB 2.7 MB/s eta 0:00:05\n",
      "   -------- ------------------------------- 3.4/15.1 MB 2.8 MB/s eta 0:00:05\n",
      "   --------- ------------------------------ 3.5/15.1 MB 2.8 MB/s eta 0:00:05\n",
      "   --------- ------------------------------ 3.6/15.1 MB 2.8 MB/s eta 0:00:05\n",
      "   --------- ------------------------------ 3.7/15.1 MB 2.8 MB/s eta 0:00:05\n",
      "   ---------- ----------------------------- 3.9/15.1 MB 2.9 MB/s eta 0:00:04\n",
      "   ---------- ----------------------------- 4.1/15.1 MB 2.9 MB/s eta 0:00:04\n",
      "   ----------- ---------------------------- 4.2/15.1 MB 2.8 MB/s eta 0:00:04\n",
      "   ----------- ---------------------------- 4.4/15.1 MB 2.9 MB/s eta 0:00:04\n",
      "   ------------ --------------------------- 4.6/15.1 MB 2.9 MB/s eta 0:00:04\n",
      "   ------------ --------------------------- 4.9/15.1 MB 3.0 MB/s eta 0:00:04\n",
      "   ------------- -------------------------- 5.0/15.1 MB 3.0 MB/s eta 0:00:04\n",
      "   -------------- ------------------------- 5.4/15.1 MB 3.2 MB/s eta 0:00:04\n",
      "   -------------- ------------------------- 5.5/15.1 MB 3.2 MB/s eta 0:00:04\n",
      "   --------------- ------------------------ 5.8/15.1 MB 3.2 MB/s eta 0:00:03\n",
      "   --------------- ------------------------ 5.9/15.1 MB 3.2 MB/s eta 0:00:03\n",
      "   ---------------- ----------------------- 6.1/15.1 MB 3.2 MB/s eta 0:00:03\n",
      "   ---------------- ----------------------- 6.2/15.1 MB 3.2 MB/s eta 0:00:03\n",
      "   ----------------- ---------------------- 6.4/15.1 MB 3.2 MB/s eta 0:00:03\n",
      "   ----------------- ---------------------- 6.7/15.1 MB 3.3 MB/s eta 0:00:03\n",
      "   ------------------ --------------------- 6.8/15.1 MB 3.3 MB/s eta 0:00:03\n",
      "   ------------------ --------------------- 7.0/15.1 MB 3.3 MB/s eta 0:00:03\n",
      "   ------------------- -------------------- 7.3/15.1 MB 3.3 MB/s eta 0:00:03\n",
      "   ------------------- -------------------- 7.5/15.1 MB 3.4 MB/s eta 0:00:03\n",
      "   -------------------- ------------------- 7.7/15.1 MB 3.4 MB/s eta 0:00:03\n",
      "   --------------------- ------------------ 8.0/15.1 MB 3.5 MB/s eta 0:00:03\n",
      "   --------------------- ------------------ 8.2/15.1 MB 3.5 MB/s eta 0:00:02\n",
      "   ---------------------- ----------------- 8.4/15.1 MB 3.5 MB/s eta 0:00:02\n",
      "   ---------------------- ----------------- 8.4/15.1 MB 3.5 MB/s eta 0:00:02\n",
      "   ---------------------- ----------------- 8.6/15.1 MB 3.5 MB/s eta 0:00:02\n",
      "   ----------------------- ---------------- 8.9/15.1 MB 3.5 MB/s eta 0:00:02\n",
      "   ------------------------ --------------- 9.2/15.1 MB 3.6 MB/s eta 0:00:02\n",
      "   ------------------------ --------------- 9.4/15.1 MB 3.6 MB/s eta 0:00:02\n",
      "   ------------------------- -------------- 9.7/15.1 MB 3.6 MB/s eta 0:00:02\n",
      "   -------------------------- ------------- 9.9/15.1 MB 3.6 MB/s eta 0:00:02\n",
      "   --------------------------- ------------ 10.2/15.1 MB 3.7 MB/s eta 0:00:02\n",
      "   --------------------------- ------------ 10.5/15.1 MB 3.8 MB/s eta 0:00:02\n",
      "   --------------------------- ------------ 10.5/15.1 MB 3.8 MB/s eta 0:00:02\n",
      "   ---------------------------- ----------- 10.8/15.1 MB 3.9 MB/s eta 0:00:02\n",
      "   ----------------------------- ---------- 11.1/15.1 MB 4.0 MB/s eta 0:00:02\n",
      "   ----------------------------- ---------- 11.3/15.1 MB 4.0 MB/s eta 0:00:01\n",
      "   ------------------------------ --------- 11.6/15.1 MB 4.2 MB/s eta 0:00:01\n",
      "   ------------------------------- -------- 11.9/15.1 MB 4.3 MB/s eta 0:00:01\n",
      "   -------------------------------- ------- 12.1/15.1 MB 4.4 MB/s eta 0:00:01\n",
      "   -------------------------------- ------- 12.3/15.1 MB 4.4 MB/s eta 0:00:01\n",
      "   -------------------------------- ------- 12.4/15.1 MB 4.4 MB/s eta 0:00:01\n",
      "   ---------------------------------- ----- 12.9/15.1 MB 4.6 MB/s eta 0:00:01\n",
      "   ---------------------------------- ----- 13.1/15.1 MB 4.6 MB/s eta 0:00:01\n",
      "   ----------------------------------- ---- 13.3/15.1 MB 4.6 MB/s eta 0:00:01\n",
      "   ------------------------------------ --- 13.7/15.1 MB 4.7 MB/s eta 0:00:01\n",
      "   ------------------------------------ --- 13.9/15.1 MB 4.7 MB/s eta 0:00:01\n",
      "   ------------------------------------- -- 14.2/15.1 MB 4.9 MB/s eta 0:00:01\n",
      "   -------------------------------------- - 14.6/15.1 MB 5.0 MB/s eta 0:00:01\n",
      "   ---------------------------------------  15.1/15.1 MB 5.1 MB/s eta 0:00:01\n",
      "   ---------------------------------------  15.1/15.1 MB 5.1 MB/s eta 0:00:01\n",
      "   ---------------------------------------- 15.1/15.1 MB 5.0 MB/s eta 0:00:00\n",
      "Downloading importlib_resources-6.1.1-py3-none-any.whl (33 kB)\n",
      "Installing collected packages: importlib-resources, sweetviz\n",
      "Successfully installed importlib-resources-6.1.1 sweetviz-2.3.1\n",
      "Note: you may need to restart the kernel to use updated packages.\n"
     ]
    }
   ],
   "source": [
    "pip install sweetviz"
   ]
  },
  {
   "cell_type": "code",
   "execution_count": 36,
   "id": "17200e77",
   "metadata": {},
   "outputs": [
    {
     "data": {
      "application/vnd.jupyter.widget-view+json": {
       "model_id": "08806a0fc72241f4946109837171544c",
       "version_major": 2,
       "version_minor": 0
      },
      "text/plain": [
       "                                             |                                             | [  0%]   00:00 ->…"
      ]
     },
     "metadata": {},
     "output_type": "display_data"
    },
    {
     "data": {
      "application/vnd.jupyter.widget-view+json": {
       "model_id": "64a385ff3b9947679e4c4da4a6c31a8d",
       "version_major": 2,
       "version_minor": 0
      },
      "text/plain": [
       "                                             |                                             | [  0%]   00:00 ->…"
      ]
     },
     "metadata": {},
     "output_type": "display_data"
    },
    {
     "name": "stdout",
     "output_type": "stream",
     "text": [
      "Report report_germany.html was generated! NOTEBOOK/COLAB USERS: the web browser MAY not pop up, regardless, the report IS saved in your notebook/colab files.\n",
      "Report report_france.html was generated! NOTEBOOK/COLAB USERS: the web browser MAY not pop up, regardless, the report IS saved in your notebook/colab files.\n"
     ]
    }
   ],
   "source": [
    "import sweetviz as sv\n",
    "import warnings\n",
    "\n",
    "df = pd.read_csv('ecommerce_data.csv', encoding='ISO-8859-1')\n",
    "\n",
    "df['CustomerID'].fillna(-1, inplace=True)\n",
    "df['CustomerID'] = df['CustomerID'].astype(str)\n",
    "\n",
    "warnings.filterwarnings('ignore')  \n",
    "\n",
    "report_germany = sv.analyze(df[df['Country'] == 'Germany'])\n",
    "\n",
    "report_france = sv.analyze(df[df['Country'] == 'France'])\n",
    "\n",
    "report_germany.show_html('report_germany.html')\n",
    "report_france.show_html('report_france.html')"
   ]
  },
  {
   "cell_type": "markdown",
   "id": "07ae375a",
   "metadata": {
    "ExecuteTime": {
     "end_time": "2023-07-30T18:55:42.650457Z",
     "start_time": "2023-07-30T18:55:42.635729Z"
    }
   },
   "source": [
    "8.З допомогою ChatGPT виявіть, чи є та які помилки в наступному коді.  \n",
    "Попросіть після цього переписати код із дотриманням PEP8. Проаналізуйте результат. Чи справді ChatGPT виправив всі стилістичні помилки? Якщо ні, напишіть йому ще кілька запитів, аби код відповідав вимогам PEP8.  \n",
    "Вставте фінальну версію коду з чату у ноутбук та запустіть на заданому списку. Має вертатись 50.  \n",
    "Напишіть, які промпти (інструкції) при зверненні до ChatGPT ви застосували та додайте скріншот(-и) з промптами та відповідями чата.  \n",
    "Якщо зробили висновки при виконанні цього завдання, то діліться також :)\n",
    "\n",
    "**ЯК ВСТАВИТИ СКРІНШОТ в Jupyter Notebook** :\n",
    "1. Створіть нову Markdown клітинку\n",
    "2. В новоствореній клітинці обираєте в меню Jupyter Notebook Edit -> Insert Image\n",
    "3. Обираєте картинку \n",
    "4. В клітинці має зʼявитись текст, який містить картинку. Запустіть клітинку.\n",
    "\n",
    "Або можна просто перетягнути картинку в Markdown клітинку."
   ]
  },
  {
   "attachments": {
    "image.png": {
     "image/png": "[encoded data removed]"
    }
   },
   "cell_type": "markdown",
   "id": "1db4a451",
   "metadata": {},
   "source": [
    "![image.png](attachment:image.png)"
   ]
  },
  {
   "cell_type": "code",
   "execution_count": 37,
   "id": "a5c010c4",
   "metadata": {
    "ExecuteTime": {
     "end_time": "2023-07-30T19:16:20.977219Z",
     "start_time": "2023-07-30T19:16:20.973688Z"
    }
   },
   "outputs": [],
   "source": [
    "def CalculateVariance(nl):\n",
    "    sum_list = 0\n",
    "    for n in nl:\n",
    "        sum_list = sum_list + n\n",
    "    mean = sum_list / len(nl)\n",
    "    sum_squares = 0\n",
    "    for n in nl:\n",
    "        sum_squares = sum_squares + n**2\n",
    "    mean_squares = sum_squares / len(nl)\n",
    "    return mean_squares"
   ]
  },
  {
   "cell_type": "code",
   "execution_count": 38,
   "id": "24bb3f81",
   "metadata": {
    "ExecuteTime": {
     "end_time": "2023-07-30T19:16:09.201841Z",
     "start_time": "2023-07-30T19:16:09.199174Z"
    }
   },
   "outputs": [],
   "source": [
    "input_list = [75, 80, 85, 90, 95]"
   ]
  },
  {
   "cell_type": "code",
   "execution_count": null,
   "id": "f57ba6fb",
   "metadata": {},
   "outputs": [],
   "source": []
  }
 ],
 "metadata": {
  "kernelspec": {
   "display_name": "Python 3 (ipykernel)",
   "language": "python",
   "name": "python3"
  },
  "language_info": {
   "codemirror_mode": {
    "name": "ipython",
    "version": 3
   },
   "file_extension": ".py",
   "mimetype": "text/x-python",
   "name": "python",
   "nbconvert_exporter": "python",
   "pygments_lexer": "ipython3",
   "version": "3.11.4"
  },
  "toc": {
   "base_numbering": 1,
   "nav_menu": {},
   "number_sections": true,
   "sideBar": true,
   "skip_h1_title": false,
   "title_cell": "Table of Contents",
   "title_sidebar": "Contents",
   "toc_cell": false,
   "toc_position": {},
   "toc_section_display": true,
   "toc_window_display": false
  }
 },
 "nbformat": 4,
 "nbformat_minor": 5
}
